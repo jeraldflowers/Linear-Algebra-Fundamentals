{
  "nbformat": 4,
  "nbformat_minor": 0,
  "metadata": {
    "colab": {
      "provenance": [],
      "authorship_tag": "ABX9TyP++aC4lKbP8DH5XriLmr+W",
      "include_colab_link": true
    },
    "kernelspec": {
      "name": "python3",
      "display_name": "Python 3"
    },
    "language_info": {
      "name": "python"
    }
  },
  "cells": [
    {
      "cell_type": "markdown",
      "metadata": {
        "id": "view-in-github",
        "colab_type": "text"
      },
      "source": [
        "<a href=\"https://colab.research.google.com/github/jeraldflowers/Linear-Algebra-Fundamentals/blob/main/orthongonals_vector_matrix_properties.ipynb\" target=\"_parent\"><img src=\"https://colab.research.google.com/assets/colab-badge.svg\" alt=\"Open In Colab\"/></a>"
      ]
    },
    {
      "cell_type": "code",
      "execution_count": 1,
      "metadata": {
        "id": "UUUrEgs6BHzG"
      },
      "outputs": [],
      "source": [
        "%matplotlib inline\n",
        "\n",
        "import numpy as np\n",
        "import matplotlib.pyplot as plt"
      ]
    },
    {
      "cell_type": "code",
      "source": [
        "x = np.array([0,0,2,2])\n",
        "y = np.array([0,0,2,-2])\n",
        "\n",
        "plt.quiver([x[0], y[0]],\n",
        "           [x[1], y[1]],\n",
        "           [x[2], y[2]],\n",
        "           [x[3], y[3]],\n",
        "           angles='xy', scale_units='xy', scale=1\n",
        "           )\n",
        "plt.xlim(-2,4)\n",
        "plt.ylim(-3,3)\n",
        "\n",
        "plt.show()"
      ],
      "metadata": {
        "colab": {
          "base_uri": "https://localhost:8080/",
          "height": 269
        },
        "id": "vfG8KTwiBaPI",
        "outputId": "3d50ca96-820f-45c2-c033-aa5f6f337be7"
      },
      "execution_count": 3,
      "outputs": [
        {
          "output_type": "display_data",
          "data": {
            "text/plain": [
              "<Figure size 432x288 with 1 Axes>"
            ],
            "image/png": "[encoded data removed]"
          },
          "metadata": {
            "needs_background": "light"
          }
        }
      ]
    },
    {
      "cell_type": "code",
      "source": [
        "v1 = np.array([2,2])\n",
        "v2 = np.array([2,-2])\n",
        "\n",
        "print(v1)\n",
        "print(v2)"
      ],
      "metadata": {
        "colab": {
          "base_uri": "https://localhost:8080/"
        },
        "id": "FUOBCgYyB9vm",
        "outputId": "f41803a0-534c-44e2-cccb-4bce15119c3a"
      },
      "execution_count": 5,
      "outputs": [
        {
          "output_type": "stream",
          "name": "stdout",
          "text": [
            "[2 2]\n",
            "[ 2 -2]\n"
          ]
        }
      ]
    },
    {
      "cell_type": "code",
      "source": [
        "print(v1.dot(v2.T))"
      ],
      "metadata": {
        "colab": {
          "base_uri": "https://localhost:8080/"
        },
        "id": "Nu-xyyS6CPXZ",
        "outputId": "e101ae01-b52c-4383-f226-fbadcf601499"
      },
      "execution_count": 6,
      "outputs": [
        {
          "output_type": "stream",
          "name": "stdout",
          "text": [
            "0\n"
          ]
        }
      ]
    },
    {
      "cell_type": "code",
      "source": [
        "print(np.linalg.norm(v1))\n",
        "print(np.linalg.norm(v2))"
      ],
      "metadata": {
        "colab": {
          "base_uri": "https://localhost:8080/"
        },
        "id": "jY-meE6LCcYi",
        "outputId": "2567ddef-57cc-49b0-9a8b-3504fd7e9da0"
      },
      "execution_count": 7,
      "outputs": [
        {
          "output_type": "stream",
          "name": "stdout",
          "text": [
            "2.8284271247461903\n",
            "2.8284271247461903\n"
          ]
        }
      ]
    },
    {
      "cell_type": "code",
      "source": [
        "v1 = np.array([1,0])\n",
        "v2 = np.array([0,-1])"
      ],
      "metadata": {
        "id": "nfQSfZxNCqaX"
      },
      "execution_count": 10,
      "outputs": []
    },
    {
      "cell_type": "code",
      "source": [
        "print(v1.dot(v2.T))"
      ],
      "metadata": {
        "colab": {
          "base_uri": "https://localhost:8080/"
        },
        "id": "QATc_UCFCw-4",
        "outputId": "cbc1e6e1-1301-404a-e59f-9eaeb177e614"
      },
      "execution_count": 11,
      "outputs": [
        {
          "output_type": "stream",
          "name": "stdout",
          "text": [
            "0\n"
          ]
        }
      ]
    },
    {
      "cell_type": "code",
      "source": [
        "print(np.linalg.norm(v1))\n",
        "print(np.linalg.norm(v2))"
      ],
      "metadata": {
        "colab": {
          "base_uri": "https://localhost:8080/"
        },
        "id": "0TSmdGMXCzsG",
        "outputId": "ead8c193-ff31-4bd1-9282-bfa8b758c545"
      },
      "execution_count": 12,
      "outputs": [
        {
          "output_type": "stream",
          "name": "stdout",
          "text": [
            "1.0\n",
            "1.0\n"
          ]
        }
      ]
    },
    {
      "cell_type": "markdown",
      "source": [
        "One matrix is orthogonal when all your rows are mutually otrhonormals and all your columns are mutually orthonormals. Likewise, one orthogonal matrix is a square matrix whose inverse matrix coincides with your transposed matrix."
      ],
      "metadata": {
        "id": "P5PsZg16EqYu"
      }
    },
    {
      "cell_type": "code",
      "source": [
        "matrix = np.array([[1,0,0],\n",
        "                   [0,1,0],\n",
        "                   [0,0,1]])\n",
        "print(matrix)"
      ],
      "metadata": {
        "colab": {
          "base_uri": "https://localhost:8080/"
        },
        "id": "EiphpgslDBNn",
        "outputId": "6ef044c5-f9d3-4edf-aebc-e61cc2e0d294"
      },
      "execution_count": 13,
      "outputs": [
        {
          "output_type": "stream",
          "name": "stdout",
          "text": [
            "[[1 0 0]\n",
            " [0 1 0]\n",
            " [0 0 1]]\n"
          ]
        }
      ]
    },
    {
      "cell_type": "code",
      "source": [
        "print(matrix[:,0].dot(matrix[:,1]))"
      ],
      "metadata": {
        "colab": {
          "base_uri": "https://localhost:8080/"
        },
        "id": "CaGtzuLWI81d",
        "outputId": "19acc13b-7c1b-46fb-c8ad-ad231d0d3384"
      },
      "execution_count": 14,
      "outputs": [
        {
          "output_type": "stream",
          "name": "stdout",
          "text": [
            "0\n"
          ]
        }
      ]
    },
    {
      "cell_type": "code",
      "source": [
        "print(matrix[:,0].dot(matrix[:,2]))"
      ],
      "metadata": {
        "colab": {
          "base_uri": "https://localhost:8080/"
        },
        "id": "5eTb1h8VJE3z",
        "outputId": "25c7b418-7fbd-40d3-b0ac-ebeea0be3cae"
      },
      "execution_count": 15,
      "outputs": [
        {
          "output_type": "stream",
          "name": "stdout",
          "text": [
            "0\n"
          ]
        }
      ]
    },
    {
      "cell_type": "code",
      "source": [
        "print(matrix[:,1].dot(matrix[:,2]))"
      ],
      "metadata": {
        "colab": {
          "base_uri": "https://localhost:8080/"
        },
        "id": "0LtlOFu9JeGs",
        "outputId": "2b7e9f04-9556-4473-ad88-dcda14b227a1"
      },
      "execution_count": 16,
      "outputs": [
        {
          "output_type": "stream",
          "name": "stdout",
          "text": [
            "0\n"
          ]
        }
      ]
    },
    {
      "cell_type": "code",
      "source": [
        "print(np.linalg.norm(matrix[:,0]))\n",
        "print(np.linalg.norm(matrix[:,1]))\n",
        "print(np.linalg.norm(matrix[:,2]))"
      ],
      "metadata": {
        "colab": {
          "base_uri": "https://localhost:8080/"
        },
        "id": "V8yedTDhJgJE",
        "outputId": "a27feb10-4401-4f65-f1dd-0b7d52cbd0b6"
      },
      "execution_count": 18,
      "outputs": [
        {
          "output_type": "stream",
          "name": "stdout",
          "text": [
            "1.0\n",
            "1.0\n",
            "1.0\n"
          ]
        }
      ]
    },
    {
      "cell_type": "code",
      "source": [
        "print(matrix[0,:].dot(matrix[1,:]))\n",
        "print(matrix[0,:].dot(matrix[2,:]))\n",
        "print(matrix[1,:].dot(matrix[2,:]))"
      ],
      "metadata": {
        "colab": {
          "base_uri": "https://localhost:8080/"
        },
        "id": "KH-CjKSWL4sI",
        "outputId": "a207a232-540d-4b5d-f368-10328a68ec37"
      },
      "execution_count": 19,
      "outputs": [
        {
          "output_type": "stream",
          "name": "stdout",
          "text": [
            "0\n",
            "0\n",
            "0\n"
          ]
        }
      ]
    },
    {
      "cell_type": "code",
      "source": [
        "print(np.linalg.norm(matrix[0,:]))\n",
        "print(np.linalg.norm(matrix[1,:]))\n",
        "print(np.linalg.norm(matrix[2,:]))"
      ],
      "metadata": {
        "colab": {
          "base_uri": "https://localhost:8080/"
        },
        "id": "scLerMN_N7VM",
        "outputId": "92d5172f-a064-4164-fa40-5956595d5650"
      },
      "execution_count": 20,
      "outputs": [
        {
          "output_type": "stream",
          "name": "stdout",
          "text": [
            "1.0\n",
            "1.0\n",
            "1.0\n"
          ]
        }
      ]
    },
    {
      "cell_type": "code",
      "source": [
        "A = np.array([[np.cos(100), -np.sin(100)],\n",
        "              [np.sin(100), np.cos(100)]])\n",
        "print(A)"
      ],
      "metadata": {
        "colab": {
          "base_uri": "https://localhost:8080/"
        },
        "id": "caPux8mqOFYv",
        "outputId": "cfdc2288-053a-410a-ff41-0ec24292bc0b"
      },
      "execution_count": 21,
      "outputs": [
        {
          "output_type": "stream",
          "name": "stdout",
          "text": [
            "[[ 0.86231887  0.50636564]\n",
            " [-0.50636564  0.86231887]]\n"
          ]
        }
      ]
    },
    {
      "cell_type": "code",
      "source": [
        "print(np.linalg.norm(A[0,:]))\n",
        "print(np.linalg.norm(A[1,:]))\n",
        "print(np.linalg.norm(A[:,0]))\n",
        "print(np.linalg.norm(A[:,1]))"
      ],
      "metadata": {
        "colab": {
          "base_uri": "https://localhost:8080/"
        },
        "id": "TYrDQbM6PKST",
        "outputId": "cc32ebed-92d4-4cb7-bc59-50afe7d38084"
      },
      "execution_count": 22,
      "outputs": [
        {
          "output_type": "stream",
          "name": "stdout",
          "text": [
            "0.9999999999999999\n",
            "0.9999999999999999\n",
            "0.9999999999999999\n",
            "0.9999999999999999\n"
          ]
        }
      ]
    },
    {
      "cell_type": "code",
      "source": [
        "print(A[0,:].dot(A[1,:]))\n",
        "print(A[:,0].dot(A[:,1]))"
      ],
      "metadata": {
        "colab": {
          "base_uri": "https://localhost:8080/"
        },
        "id": "Y7KHw1RlPaUR",
        "outputId": "5b59375b-3879-4ade-d970-7f5d0b5d32f9"
      },
      "execution_count": 23,
      "outputs": [
        {
          "output_type": "stream",
          "name": "stdout",
          "text": [
            "0.0\n",
            "0.0\n"
          ]
        }
      ]
    },
    {
      "cell_type": "code",
      "source": [
        "A_t = A.T\n",
        "print(A_t.dot(A))\n",
        "print(A.dot(A_t))"
      ],
      "metadata": {
        "colab": {
          "base_uri": "https://localhost:8080/"
        },
        "id": "1L8DXlIWPrz1",
        "outputId": "a2b9e182-31c9-434b-e0d0-d58dae6b1b0f"
      },
      "execution_count": 24,
      "outputs": [
        {
          "output_type": "stream",
          "name": "stdout",
          "text": [
            "[[ 1.00000000e+00 -7.93771519e-18]\n",
            " [-7.93771519e-18  1.00000000e+00]]\n",
            "[[1.00000000e+00 7.93771519e-18]\n",
            " [7.93771519e-18 1.00000000e+00]]\n"
          ]
        }
      ]
    },
    {
      "cell_type": "code",
      "source": [
        "A_inv = np.linalg.inv(A)\n",
        "print(A_inv)"
      ],
      "metadata": {
        "colab": {
          "base_uri": "https://localhost:8080/"
        },
        "id": "9rInY3LrP8gg",
        "outputId": "0ff98885-3b64-4356-d536-ca5c8136c0f3"
      },
      "execution_count": 26,
      "outputs": [
        {
          "output_type": "stream",
          "name": "stdout",
          "text": [
            "[[ 0.86231887 -0.50636564]\n",
            " [ 0.50636564  0.86231887]]\n"
          ]
        }
      ]
    },
    {
      "cell_type": "code",
      "source": [
        "print(A_t)"
      ],
      "metadata": {
        "colab": {
          "base_uri": "https://localhost:8080/"
        },
        "id": "BeXtFiVBQTiC",
        "outputId": "b30dab3a-89ac-487b-c977-35cf81cb1819"
      },
      "execution_count": 27,
      "outputs": [
        {
          "output_type": "stream",
          "name": "stdout",
          "text": [
            "[[ 0.86231887 -0.50636564]\n",
            " [ 0.50636564  0.86231887]]\n"
          ]
        }
      ]
    },
    {
      "cell_type": "code",
      "source": [
        "print(1/A_t.dot(A))"
      ],
      "metadata": {
        "colab": {
          "base_uri": "https://localhost:8080/"
        },
        "id": "YMb9BvepQZ5A",
        "outputId": "3aac9c2c-a798-4437-fd49-12a52d6330fc"
      },
      "execution_count": 28,
      "outputs": [
        {
          "output_type": "stream",
          "name": "stdout",
          "text": [
            "[[ 1.00000000e+00 -1.25980837e+17]\n",
            " [-1.25980837e+17  1.00000000e+00]]\n"
          ]
        }
      ]
    },
    {
      "cell_type": "code",
      "source": [],
      "metadata": {
        "id": "6pNlD9McQje0"
      },
      "execution_count": null,
      "outputs": []
    }
  ]
}