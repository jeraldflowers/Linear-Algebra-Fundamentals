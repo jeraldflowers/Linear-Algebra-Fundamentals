{
  "nbformat": 4,
  "nbformat_minor": 0,
  "metadata": {
    "colab": {
      "provenance": [],
      "authorship_tag": "ABX9TyP1i8JqoMPm7pQhzKrEAhU7",
      "include_colab_link": true
    },
    "kernelspec": {
      "name": "python3",
      "display_name": "Python 3"
    },
    "language_info": {
      "name": "python"
    }
  },
  "cells": [
    {
      "cell_type": "markdown",
      "metadata": {
        "id": "view-in-github",
        "colab_type": "text"
      },
      "source": [
        "<a href=\"https://colab.research.google.com/github/jeraldflowers/Linear-Algebra-Fundamentals/blob/main/inner_product_properties.ipynb\" target=\"_parent\"><img src=\"https://colab.research.google.com/assets/colab-badge.svg\" alt=\"Open In Colab\"/></a>"
      ]
    },
    {
      "cell_type": "code",
      "execution_count": 1,
      "metadata": {
        "id": "LKoxSLHi_Zof"
      },
      "outputs": [],
      "source": [
        "import numpy as np"
      ]
    },
    {
      "cell_type": "code",
      "source": [
        "A = np.array([[2,3],[5,7],[11,13]])\n",
        "B = np.array([[1,3],[2,1]])\n",
        "C = np.array([[3,1],[4,2]])"
      ],
      "metadata": {
        "id": "C8Qkyp9j_sv5"
      },
      "execution_count": 2,
      "outputs": []
    },
    {
      "cell_type": "code",
      "source": [
        "# Associative\n",
        "ABC = A.dot(B.dot(C))\n",
        "print(ABC)"
      ],
      "metadata": {
        "colab": {
          "base_uri": "https://localhost:8080/"
        },
        "id": "WNt_q4R8AE4E",
        "outputId": "277dc4d5-c0e6-4b3c-9923-c5726742ea21"
      },
      "execution_count": 3,
      "outputs": [
        {
          "output_type": "stream",
          "name": "stdout",
          "text": [
            "[[ 60  26]\n",
            " [145  63]\n",
            " [295 129]]\n"
          ]
        }
      ]
    },
    {
      "cell_type": "code",
      "source": [
        "AB_C = A.dot(B).dot(C)\n",
        "print(ABC)"
      ],
      "metadata": {
        "colab": {
          "base_uri": "https://localhost:8080/"
        },
        "id": "WzuJw1U-APsl",
        "outputId": "6b62a8da-daf2-4697-cbda-6b7e08850d90"
      },
      "execution_count": 4,
      "outputs": [
        {
          "output_type": "stream",
          "name": "stdout",
          "text": [
            "[[ 60  26]\n",
            " [145  63]\n",
            " [295 129]]\n"
          ]
        }
      ]
    },
    {
      "cell_type": "code",
      "source": [
        "# Distributive\n",
        "D = A.dot(B+C)\n",
        "E = (A.dot(B)) + (A.dot(C))"
      ],
      "metadata": {
        "id": "DnPLeMQWAXaR"
      },
      "execution_count": 5,
      "outputs": []
    },
    {
      "cell_type": "code",
      "source": [
        "print(D)\n",
        "print(E)"
      ],
      "metadata": {
        "colab": {
          "base_uri": "https://localhost:8080/"
        },
        "id": "BnKgAflkApac",
        "outputId": "f0b8b1a0-2eae-45ba-f779-6bc0c414dd19"
      },
      "execution_count": 6,
      "outputs": [
        {
          "output_type": "stream",
          "name": "stdout",
          "text": [
            "[[ 26  17]\n",
            " [ 62  41]\n",
            " [122  83]]\n",
            "[[ 26  17]\n",
            " [ 62  41]\n",
            " [122  83]]\n"
          ]
        }
      ]
    },
    {
      "cell_type": "code",
      "source": [
        "print(D==E)"
      ],
      "metadata": {
        "colab": {
          "base_uri": "https://localhost:8080/"
        },
        "id": "duZI8wjOArni",
        "outputId": "3300f9ef-f236-422d-d46d-ba451d63f361"
      },
      "execution_count": 7,
      "outputs": [
        {
          "output_type": "stream",
          "name": "stdout",
          "text": [
            "[[ True  True]\n",
            " [ True  True]\n",
            " [ True  True]]\n"
          ]
        }
      ]
    },
    {
      "cell_type": "code",
      "source": [
        "F = B.dot(C)\n",
        "G = C.dot(B)"
      ],
      "metadata": {
        "id": "1GpVaJ36C4_a"
      },
      "execution_count": 9,
      "outputs": []
    },
    {
      "cell_type": "code",
      "source": [
        "print(F==G)"
      ],
      "metadata": {
        "colab": {
          "base_uri": "https://localhost:8080/"
        },
        "id": "Mnn6oYiVC-Oj",
        "outputId": "8238c9a0-8b56-4913-8ce0-364ce1171491"
      },
      "execution_count": 10,
      "outputs": [
        {
          "output_type": "stream",
          "name": "stdout",
          "text": [
            "[[False False]\n",
            " [False False]]\n"
          ]
        }
      ]
    },
    {
      "cell_type": "code",
      "source": [
        "v1 = np.array([[2], [7]])\n",
        "v2 = np.array([[3],[5]])"
      ],
      "metadata": {
        "id": "TmeccuzZDEgw"
      },
      "execution_count": 11,
      "outputs": []
    },
    {
      "cell_type": "code",
      "source": [
        "v1_tv2 = v1.T.dot(v2)\n",
        "v2_tv1 = v2.T.dot(v1)"
      ],
      "metadata": {
        "id": "T0o1bi2VDT2X"
      },
      "execution_count": 12,
      "outputs": []
    },
    {
      "cell_type": "code",
      "source": [
        "print(v1_tv2)"
      ],
      "metadata": {
        "colab": {
          "base_uri": "https://localhost:8080/"
        },
        "id": "6D6bqBUSDe44",
        "outputId": "e5dc33ad-b1fa-418f-c846-6025ad166ca8"
      },
      "execution_count": 13,
      "outputs": [
        {
          "output_type": "stream",
          "name": "stdout",
          "text": [
            "[[41]]\n"
          ]
        }
      ]
    },
    {
      "cell_type": "code",
      "source": [
        "print(v2_tv1)"
      ],
      "metadata": {
        "colab": {
          "base_uri": "https://localhost:8080/"
        },
        "id": "c38weOieDjE9",
        "outputId": "27261760-06e4-41c2-b39a-683f8c531dee"
      },
      "execution_count": 14,
      "outputs": [
        {
          "output_type": "stream",
          "name": "stdout",
          "text": [
            "[[41]]\n"
          ]
        }
      ]
    },
    {
      "cell_type": "markdown",
      "source": [
        "Note.\n",
        "the inner product of matrix is:\n",
        "\n",
        "- Associative: yes\n",
        "- Distributive: yes\n",
        "- Commutative: no\n",
        "\n",
        "the inner product of vectors is:\n",
        "- Associative: yes\n",
        "- Distributive: yes\n",
        "- Commutative: yes"
      ],
      "metadata": {
        "id": "8JOLTcnWDsab"
      }
    },
    {
      "cell_type": "code",
      "source": [],
      "metadata": {
        "id": "oIz4HO4vDl7a"
      },
      "execution_count": null,
      "outputs": []
    }
  ]
}