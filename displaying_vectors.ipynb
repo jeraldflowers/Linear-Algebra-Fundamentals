{
  "nbformat": 4,
  "nbformat_minor": 0,
  "metadata": {
    "colab": {
      "provenance": [],
      "authorship_tag": "ABX9TyMXWxUnRxnGpJZNs7JJuugZ",
      "include_colab_link": true
    },
    "kernelspec": {
      "name": "python3",
      "display_name": "Python 3"
    },
    "language_info": {
      "name": "python"
    }
  },
  "cells": [
    {
      "cell_type": "markdown",
      "metadata": {
        "id": "view-in-github",
        "colab_type": "text"
      },
      "source": [
        "<a href=\"https://colab.research.google.com/github/jeraldflowers/Linear-Algebra-Fundamentals/blob/main/displaying_vectors.ipynb\" target=\"_parent\"><img src=\"https://colab.research.google.com/assets/colab-badge.svg\" alt=\"Open In Colab\"/></a>"
      ]
    },
    {
      "cell_type": "code",
      "execution_count": 2,
      "metadata": {
        "id": "ik34VZKWVmqX"
      },
      "outputs": [],
      "source": [
        "%matplotlib inline\n",
        "\n",
        "import numpy as np\n",
        "import matplotlib.pyplot as plt"
      ]
    },
    {
      "cell_type": "code",
      "source": [
        "v1 = np.array([2,5])\n",
        "v2 = np.array([3,2])"
      ],
      "metadata": {
        "id": "ggHimXbNV2Zx"
      },
      "execution_count": 3,
      "outputs": []
    },
    {
      "cell_type": "code",
      "source": [
        "def displayVectors(vecs, cols, alpha=1):\n",
        "\n",
        "  plt.figure()\n",
        "  plt.axvline(x=0, color='grey', zorder=0)\n",
        "  plt.axhline(y=0, color='grey', zorder=0)\n",
        "\n",
        "  for i in range(len(vecs)):\n",
        "    x = np.concatenate([[0,0], vecs[i]])\n",
        "    plt.quiver([x[0]],\n",
        "               [x[1]],\n",
        "               [x[2]],\n",
        "               [x[3]],\n",
        "               angles='xy',scale_units='xy', scale=1,\n",
        "               color=cols[i],\n",
        "               alpha=alpha)"
      ],
      "metadata": {
        "id": "V49Kz8LrV8zN"
      },
      "execution_count": 4,
      "outputs": []
    },
    {
      "cell_type": "code",
      "source": [
        "displayVectors([v1, v2], ['orange', 'blue'])\n",
        "plt.xlim(-1,8)\n",
        "plt.ylim(-1,8)"
      ],
      "metadata": {
        "id": "aH27gwRqW0YE",
        "colab": {
          "base_uri": "https://localhost:8080/",
          "height": 286
        },
        "outputId": "842239d2-e780-4993-cee3-206fb53c2f0c"
      },
      "execution_count": 5,
      "outputs": [
        {
          "output_type": "execute_result",
          "data": {
            "text/plain": [
              "(-1.0, 8.0)"
            ]
          },
          "metadata": {},
          "execution_count": 5
        },
        {
          "output_type": "display_data",
          "data": {
            "text/plain": [
              "<Figure size 432x288 with 1 Axes>"
            ],
            "image/png": "[encoded data removed]"
          },
          "metadata": {
            "needs_background": "light"
          }
        }
      ]
    },
    {
      "cell_type": "markdown",
      "source": [
        "## Linear Combinations"
      ],
      "metadata": {
        "id": "WjWrFAAsQCRS"
      }
    },
    {
      "cell_type": "code",
      "source": [
        "v1 = np.array([2,5])\n",
        "v2 = np.array([3,2])"
      ],
      "metadata": {
        "id": "kcwnO7XBZTOY"
      },
      "execution_count": 6,
      "outputs": []
    },
    {
      "cell_type": "code",
      "source": [
        "v1v2 = 2*v1 + v2\n",
        "\n",
        "print(v1v2)"
      ],
      "metadata": {
        "colab": {
          "base_uri": "https://localhost:8080/"
        },
        "id": "aqnjhduNQba3",
        "outputId": "7a92117d-bcca-4616-aad7-d4734e49f963"
      },
      "execution_count": 12,
      "outputs": [
        {
          "output_type": "stream",
          "name": "stdout",
          "text": [
            "[ 7 12]\n"
          ]
        }
      ]
    },
    {
      "cell_type": "code",
      "source": [
        "displayVectors([v1, v2, v1v2], ['orange', 'blue', 'red'])\n",
        "plt.xlim(-1,8)\n",
        "plt.ylim(-1,13)"
      ],
      "metadata": {
        "colab": {
          "base_uri": "https://localhost:8080/",
          "height": 282
        },
        "id": "m2Ow_sg9QmHD",
        "outputId": "8f15d981-41e8-4a4d-dfcf-3b810ac039b4"
      },
      "execution_count": 13,
      "outputs": [
        {
          "output_type": "execute_result",
          "data": {
            "text/plain": [
              "(-1.0, 13.0)"
            ]
          },
          "metadata": {},
          "execution_count": 13
        },
        {
          "output_type": "display_data",
          "data": {
            "text/plain": [
              "<Figure size 432x288 with 1 Axes>"
            ],
            "image/png": "[encoded data removed]"
          },
          "metadata": {
            "needs_background": "light"
          }
        }
      ]
    },
    {
      "cell_type": "code",
      "source": [
        "for a in range(-10,10):\n",
        "  for b in range(-10,10):\n",
        "    plt.scatter(v1[0]*a + v2[0]*b, v1[1]*a + v2[1]*b, \n",
        "                marker='.',\n",
        "                color='orange')\n",
        "    \n",
        "plt.xlim(-100,100)\n",
        "plt.ylim(-100,100)\n",
        "\n",
        "plt.axvline(x=0, color='grey')\n",
        "plt.axhline(y=0, color='grey')\n",
        "\n",
        "plt.show()"
      ],
      "metadata": {
        "colab": {
          "base_uri": "https://localhost:8080/",
          "height": 269
        },
        "id": "-AxzKeCSQxk0",
        "outputId": "aa47bd46-bb56-4acf-edae-ba947b0ed3e1"
      },
      "execution_count": 15,
      "outputs": [
        {
          "output_type": "display_data",
          "data": {
            "text/plain": [
              "<Figure size 432x288 with 1 Axes>"
            ],
            "image/png": "[encoded data removed]"
          },
          "metadata": {
            "needs_background": "light"
          }
        }
      ]
    },
    {
      "cell_type": "code",
      "source": [],
      "metadata": {
        "id": "gucDwPeHSMNg"
      },
      "execution_count": null,
      "outputs": []
    }
  ]
}