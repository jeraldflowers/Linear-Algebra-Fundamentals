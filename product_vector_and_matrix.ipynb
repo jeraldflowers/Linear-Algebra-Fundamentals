{
  "nbformat": 4,
  "nbformat_minor": 0,
  "metadata": {
    "colab": {
      "provenance": [],
      "authorship_tag": "ABX9TyOOLEDo+JuK1doSYWNcwCqA",
      "include_colab_link": true
    },
    "kernelspec": {
      "name": "python3",
      "display_name": "Python 3"
    },
    "language_info": {
      "name": "python"
    }
  },
  "cells": [
    {
      "cell_type": "markdown",
      "metadata": {
        "id": "view-in-github",
        "colab_type": "text"
      },
      "source": [
        "<a href=\"https://colab.research.google.com/github/jeraldflowers/Linear-Algebra-Fundamentals/blob/main/product_vector_and_matrix.ipynb\" target=\"_parent\"><img src=\"https://colab.research.google.com/assets/colab-badge.svg\" alt=\"Open In Colab\"/></a>"
      ]
    },
    {
      "cell_type": "code",
      "execution_count": 1,
      "metadata": {
        "id": "yEfXnV672InJ"
      },
      "outputs": [],
      "source": [
        "import numpy as np"
      ]
    },
    {
      "cell_type": "code",
      "source": [
        "escalar = 5.679\n",
        "vector = np.array([2,3])\n",
        "matrix = np.array([[1,2], [3,4], [5,6]])"
      ],
      "metadata": {
        "id": "f4641KWV2Qfu"
      },
      "execution_count": 2,
      "outputs": []
    },
    {
      "cell_type": "code",
      "source": [
        "A = matrix * vector\n",
        "\n",
        "#producto interno\n",
        "B = matrix.dot(vector)"
      ],
      "metadata": {
        "id": "iBpi-4PZ2XlY"
      },
      "execution_count": 3,
      "outputs": []
    },
    {
      "cell_type": "code",
      "source": [
        "print(A)"
      ],
      "metadata": {
        "colab": {
          "base_uri": "https://localhost:8080/"
        },
        "id": "d-uUI8eE2e0V",
        "outputId": "74c51b02-ce29-4da0-c29b-f26cc9d78f5a"
      },
      "execution_count": 4,
      "outputs": [
        {
          "output_type": "stream",
          "name": "stdout",
          "text": [
            "[[ 2  6]\n",
            " [ 6 12]\n",
            " [10 18]]\n"
          ]
        }
      ]
    },
    {
      "cell_type": "code",
      "source": [
        "print(B)"
      ],
      "metadata": {
        "colab": {
          "base_uri": "https://localhost:8080/"
        },
        "id": "QIPXuBDo2hHo",
        "outputId": "e84c4390-e20f-421b-b1b8-113015d6ef4b"
      },
      "execution_count": 5,
      "outputs": [
        {
          "output_type": "stream",
          "name": "stdout",
          "text": [
            "[ 8 18 28]\n"
          ]
        }
      ]
    },
    {
      "cell_type": "code",
      "source": [
        "B = matrix.dot(vector)\n",
        "C = np.dot(matrix, vector)\n",
        "print(B)\n",
        "print(C)"
      ],
      "metadata": {
        "colab": {
          "base_uri": "https://localhost:8080/"
        },
        "id": "nF-soqa02xye",
        "outputId": "075af3d8-2e30-4275-9a03-3f2096a10d57"
      },
      "execution_count": 6,
      "outputs": [
        {
          "output_type": "stream",
          "name": "stdout",
          "text": [
            "[ 8 18 28]\n",
            "[ 8 18 28]\n"
          ]
        }
      ]
    },
    {
      "cell_type": "code",
      "source": [
        "D = matrix @ vector\n",
        "print(D)"
      ],
      "metadata": {
        "colab": {
          "base_uri": "https://localhost:8080/"
        },
        "id": "nRf55yhM3eqN",
        "outputId": "f7c65c68-d436-4625-ae72-139b51c96077"
      },
      "execution_count": 7,
      "outputs": [
        {
          "output_type": "stream",
          "name": "stdout",
          "text": [
            "[ 8 18 28]\n"
          ]
        }
      ]
    },
    {
      "cell_type": "markdown",
      "source": [
        "## Between two matrix\n"
      ],
      "metadata": {
        "id": "5fdLxBf89dKe"
      }
    },
    {
      "cell_type": "code",
      "source": [
        "A = np.array([[1,2,3],[4,5,6],[7,8,9],[10,11,12]])\n",
        "B = np.array([[2,3],[5,7],[11,13]])"
      ],
      "metadata": {
        "id": "fuu3z0z33zSn"
      },
      "execution_count": 8,
      "outputs": []
    },
    {
      "cell_type": "code",
      "source": [
        "print(A.shape)"
      ],
      "metadata": {
        "colab": {
          "base_uri": "https://localhost:8080/"
        },
        "id": "dyeZ4baD9wbR",
        "outputId": "9baed68d-6093-4c9c-fa99-bbec8c0a5111"
      },
      "execution_count": 9,
      "outputs": [
        {
          "output_type": "stream",
          "name": "stdout",
          "text": [
            "(4, 3)\n"
          ]
        }
      ]
    },
    {
      "cell_type": "code",
      "source": [
        "print(B.shape)"
      ],
      "metadata": {
        "colab": {
          "base_uri": "https://localhost:8080/"
        },
        "id": "CT1hAJND9zTe",
        "outputId": "c23cb4d3-1bc5-4363-db8d-5b4d03d847d0"
      },
      "execution_count": 10,
      "outputs": [
        {
          "output_type": "stream",
          "name": "stdout",
          "text": [
            "(3, 2)\n"
          ]
        }
      ]
    },
    {
      "cell_type": "code",
      "source": [
        "C = A.dot(B)"
      ],
      "metadata": {
        "id": "A1fjTlpx-D2D"
      },
      "execution_count": 11,
      "outputs": []
    },
    {
      "cell_type": "code",
      "source": [
        "print(C)"
      ],
      "metadata": {
        "colab": {
          "base_uri": "https://localhost:8080/"
        },
        "id": "YtpceMeR-VQ6",
        "outputId": "20eeab0a-cb24-4bd9-a8d9-232a4c70546e"
      },
      "execution_count": 12,
      "outputs": [
        {
          "output_type": "stream",
          "name": "stdout",
          "text": [
            "[[ 45  56]\n",
            " [ 99 125]\n",
            " [153 194]\n",
            " [207 263]]\n"
          ]
        }
      ]
    },
    {
      "cell_type": "code",
      "source": [
        "C.shape"
      ],
      "metadata": {
        "colab": {
          "base_uri": "https://localhost:8080/"
        },
        "id": "ioDSDcpy_KOu",
        "outputId": "db936d56-98c4-4720-ab2d-4300fdce2bd2"
      },
      "execution_count": 14,
      "outputs": [
        {
          "output_type": "execute_result",
          "data": {
            "text/plain": [
              "(4, 2)"
            ]
          },
          "metadata": {},
          "execution_count": 14
        }
      ]
    },
    {
      "cell_type": "code",
      "source": [],
      "metadata": {
        "id": "HqfynqV2_M00"
      },
      "execution_count": null,
      "outputs": []
    }
  ]
}