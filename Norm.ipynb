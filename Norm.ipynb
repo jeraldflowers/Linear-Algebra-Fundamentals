{
  "nbformat": 4,
  "nbformat_minor": 0,
  "metadata": {
    "colab": {
      "provenance": [],
      "authorship_tag": "ABX9TyPLV40VjDmUHedDx8kbJ8P3",
      "include_colab_link": true
    },
    "kernelspec": {
      "name": "python3",
      "display_name": "Python 3"
    },
    "language_info": {
      "name": "python"
    }
  },
  "cells": [
    {
      "cell_type": "markdown",
      "metadata": {
        "id": "view-in-github",
        "colab_type": "text"
      },
      "source": [
        "<a href=\"https://colab.research.google.com/github/jeraldflowers/Linear-Algebra-Fundamentals/blob/main/Norm.ipynb\" target=\"_parent\"><img src=\"https://colab.research.google.com/assets/colab-badge.svg\" alt=\"Open In Colab\"/></a>"
      ]
    },
    {
      "cell_type": "code",
      "execution_count": 1,
      "metadata": {
        "id": "EjwzDdKjTZOJ"
      },
      "outputs": [],
      "source": [
        "%matplotlib inline\n",
        "\n",
        "import numpy as np\n",
        "import matplotlib.pyplot as plt\n",
        "import seaborn as sns"
      ]
    },
    {
      "cell_type": "code",
      "source": [
        "v1 = np.array([2,7])\n",
        "v2 = np.array([3,5])\n",
        "\n",
        "print(v1)\n",
        "print(v2)"
      ],
      "metadata": {
        "colab": {
          "base_uri": "https://localhost:8080/"
        },
        "id": "JT_BVnLOTqtS",
        "outputId": "9531eaa1-c445-4bdd-e0d5-138adc3fa4d5"
      },
      "execution_count": 2,
      "outputs": [
        {
          "output_type": "stream",
          "name": "stdout",
          "text": [
            "[2 7]\n",
            "[3 5]\n"
          ]
        }
      ]
    },
    {
      "cell_type": "code",
      "source": [
        "v1v2 = v1 + v2\n",
        "print(v1v2)"
      ],
      "metadata": {
        "colab": {
          "base_uri": "https://localhost:8080/"
        },
        "id": "a0ADUzFjT0hb",
        "outputId": "80a961c4-4b50-4117-f7e0-93a2f8403a65"
      },
      "execution_count": 3,
      "outputs": [
        {
          "output_type": "stream",
          "name": "stdout",
          "text": [
            "[ 5 12]\n"
          ]
        }
      ]
    },
    {
      "cell_type": "code",
      "source": [
        "np.linalg.norm(v1v2)"
      ],
      "metadata": {
        "colab": {
          "base_uri": "https://localhost:8080/"
        },
        "id": "sbHrIM94T5jY",
        "outputId": "55df6673-9134-43f8-bb32-7488fe4c960f"
      },
      "execution_count": 4,
      "outputs": [
        {
          "output_type": "execute_result",
          "data": {
            "text/plain": [
              "13.0"
            ]
          },
          "metadata": {},
          "execution_count": 4
        }
      ]
    },
    {
      "cell_type": "code",
      "source": [
        "# norm(v1v2) <= norm(v1) + norm(v2)\n",
        "\n",
        "norm_v1 = np.linalg.norm(v1)\n",
        "norm_v2 = np.linalg.norm(v2)\n",
        "norm_v1v2 = np.linalg.norm(v1v2)\n",
        "\n",
        "print(norm_v1v2 <= (norm_v1 + norm_v2))"
      ],
      "metadata": {
        "colab": {
          "base_uri": "https://localhost:8080/"
        },
        "id": "WyjBx7WKT8lM",
        "outputId": "7d3723ec-47e9-4eca-ebc1-33b66d900627"
      },
      "execution_count": 5,
      "outputs": [
        {
          "output_type": "stream",
          "name": "stdout",
          "text": [
            "True\n"
          ]
        }
      ]
    },
    {
      "cell_type": "code",
      "source": [
        "print(norm_v1 + norm_v2)"
      ],
      "metadata": {
        "colab": {
          "base_uri": "https://localhost:8080/"
        },
        "id": "gLTI5rQ5Uc_3",
        "outputId": "f66cca2c-14bf-4358-c5b6-255f9ae4e3e1"
      },
      "execution_count": 6,
      "outputs": [
        {
          "output_type": "stream",
          "name": "stdout",
          "text": [
            "13.11106178412582\n"
          ]
        }
      ]
    },
    {
      "cell_type": "code",
      "source": [
        "v1 = np.array([0,0,2,7])\n",
        "v2 = np.array([0,0,3,5])\n",
        "\n",
        "v1_aux = np.array([v1[2], v1[3], v2[2], v2[3]])\n",
        "v1v2 = np.array([0,0,5,12])"
      ],
      "metadata": {
        "id": "Pwrb9jObUsYe"
      },
      "execution_count": 7,
      "outputs": []
    },
    {
      "cell_type": "code",
      "source": [
        "plt.quiver([v1[0], v1_aux[0], v1v2[0]],\n",
        "           [v1[1], v1_aux[1], v1v2[1]],\n",
        "           [v1[2], v1_aux[2], v1v2[2]],\n",
        "           [v1[3], v1_aux[3], v1v2[3]],\n",
        "           angles='xy', scale_units='xy', scale=1,\n",
        "           color=sns.color_palette()\n",
        "           )\n",
        "plt.xlim(-0.5, 6)\n",
        "plt.ylim(-0.5, 15)"
      ],
      "metadata": {
        "colab": {
          "base_uri": "https://localhost:8080/",
          "height": 282
        },
        "id": "HyORWEEBVIq-",
        "outputId": "4e52805f-f836-4d51-f384-204c00650517"
      },
      "execution_count": 8,
      "outputs": [
        {
          "output_type": "execute_result",
          "data": {
            "text/plain": [
              "(-0.5, 15.0)"
            ]
          },
          "metadata": {},
          "execution_count": 8
        },
        {
          "output_type": "display_data",
          "data": {
            "text/plain": [
              "<Figure size 432x288 with 1 Axes>"
            ],
            "image/png": "[encoded data removed]"
          },
          "metadata": {
            "needs_background": "light"
          }
        }
      ]
    },
    {
      "cell_type": "markdown",
      "source": [
        "## Types of Norms"
      ],
      "metadata": {
        "id": "SFeMAGJ5aIfs"
      }
    },
    {
      "cell_type": "markdown",
      "source": [
        "- The norm is using in Machine Learning to find mistakes.\n",
        "- The norm L0: return the quantity of different elements from zero of the vector.\n",
        "- The norm L1: return the sum of the absolut values from the elements of the vector.\n",
        "- The norm L2: return the magnitude of the vector since your origin (Euclidiane Distance).\n",
        "- The infinit norm: return the bigger absolute value of the vector.  "
      ],
      "metadata": {
        "id": "XTTl3RCtX5Qu"
      }
    },
    {
      "cell_type": "code",
      "source": [
        "vector = np.array([1,2,0,5,6,0])\n",
        "\n",
        "print(np.linalg.norm(vector, ord=0))"
      ],
      "metadata": {
        "colab": {
          "base_uri": "https://localhost:8080/"
        },
        "id": "-H04z0JIXW9b",
        "outputId": "55329f23-bdf8-40be-c4e2-7d4cddcc7ece"
      },
      "execution_count": 9,
      "outputs": [
        {
          "output_type": "stream",
          "name": "stdout",
          "text": [
            "4.0\n"
          ]
        }
      ]
    },
    {
      "cell_type": "code",
      "source": [
        "vector = np.array([1,-1,1,-1,1])\n",
        "\n",
        "print(np.linalg.norm(vector, ord=1))"
      ],
      "metadata": {
        "colab": {
          "base_uri": "https://localhost:8080/"
        },
        "id": "YL2uwF0FccLv",
        "outputId": "827ed1aa-a3bd-48db-e72b-0d4bb81edd8d"
      },
      "execution_count": 10,
      "outputs": [
        {
          "output_type": "stream",
          "name": "stdout",
          "text": [
            "5.0\n"
          ]
        }
      ]
    },
    {
      "cell_type": "code",
      "source": [
        "vector = np.array([1,1])"
      ],
      "metadata": {
        "id": "KElstJm1cpJJ"
      },
      "execution_count": 14,
      "outputs": []
    },
    {
      "cell_type": "code",
      "source": [
        "print(np.linalg.norm(vector))\n",
        "print(np.linalg.norm(vector, ord=2))"
      ],
      "metadata": {
        "colab": {
          "base_uri": "https://localhost:8080/"
        },
        "id": "fIb5zS0lcx1n",
        "outputId": "3b62b332-efce-4266-b2dc-3298736e94b8"
      },
      "execution_count": 12,
      "outputs": [
        {
          "output_type": "stream",
          "name": "stdout",
          "text": [
            "1.4142135623730951\n",
            "1.4142135623730951\n"
          ]
        }
      ]
    },
    {
      "cell_type": "code",
      "source": [
        "vector = np.array([1,2,3,4,5,6])\n",
        "print(vector)"
      ],
      "metadata": {
        "colab": {
          "base_uri": "https://localhost:8080/"
        },
        "id": "OvxGu8mXc58k",
        "outputId": "000eaf69-de75-4a53-cc77-daaf6bb4c4d6"
      },
      "execution_count": 17,
      "outputs": [
        {
          "output_type": "stream",
          "name": "stdout",
          "text": [
            "[1 2 3 4 5 6]\n"
          ]
        }
      ]
    },
    {
      "cell_type": "code",
      "source": [
        "print(np.linalg.norm(vector, ord=2)**2)"
      ],
      "metadata": {
        "colab": {
          "base_uri": "https://localhost:8080/"
        },
        "id": "5P8zDIUAdF5w",
        "outputId": "504df8e0-a7a5-4967-d73a-2943078178bf"
      },
      "execution_count": 18,
      "outputs": [
        {
          "output_type": "stream",
          "name": "stdout",
          "text": [
            "91.0\n"
          ]
        }
      ]
    },
    {
      "cell_type": "code",
      "source": [
        "print(vector.T.dot(vector))"
      ],
      "metadata": {
        "colab": {
          "base_uri": "https://localhost:8080/"
        },
        "id": "iSDW3ZWUdeY2",
        "outputId": "60813506-a5f2-40bc-a8f2-5c9819629190"
      },
      "execution_count": 19,
      "outputs": [
        {
          "output_type": "stream",
          "name": "stdout",
          "text": [
            "91\n"
          ]
        }
      ]
    },
    {
      "cell_type": "code",
      "source": [
        "vector = np.array([1,2,3,-100])\n",
        "print(np.linalg.norm(vector, ord=np.inf))"
      ],
      "metadata": {
        "colab": {
          "base_uri": "https://localhost:8080/"
        },
        "id": "kRhh5vPOgwVd",
        "outputId": "d7171abb-b19f-4e3c-d166-cf0039175e11"
      },
      "execution_count": 20,
      "outputs": [
        {
          "output_type": "stream",
          "name": "stdout",
          "text": [
            "100.0\n"
          ]
        }
      ]
    },
    {
      "cell_type": "markdown",
      "source": [
        "## Inner Product expressed with Norms"
      ],
      "metadata": {
        "id": "7d4vMUkY49mN"
      }
    },
    {
      "cell_type": "code",
      "source": [
        "v1 = np.array([0,0,0,3])\n",
        "v2 = np.array([0,0,3,3])"
      ],
      "metadata": {
        "id": "4t5-ze2ehjYt"
      },
      "execution_count": 21,
      "outputs": []
    },
    {
      "cell_type": "code",
      "source": [
        "plt.xlim(-2,6)\n",
        "plt.ylim(-2,6)\n",
        "\n",
        "plt.quiver([v1[0], v2[0]],\n",
        "           [v1[1], v2[1]],\n",
        "           [v1[2], v2[2]],\n",
        "           [v1[3], v2[3]],\n",
        "           angles='xy', scale_units='xy', scale=1,\n",
        "           color=sns.color_palette()\n",
        "           )\n",
        "plt.show()"
      ],
      "metadata": {
        "colab": {
          "base_uri": "https://localhost:8080/",
          "height": 269
        },
        "id": "enpDb4hu5U-J",
        "outputId": "6e6e89a8-d496-4ff8-d982-4d408b79971e"
      },
      "execution_count": 23,
      "outputs": [
        {
          "output_type": "display_data",
          "data": {
            "text/plain": [
              "<Figure size 432x288 with 1 Axes>"
            ],
            "image/png": "[encoded data removed]"
          },
          "metadata": {
            "needs_background": "light"
          }
        }
      ]
    },
    {
      "cell_type": "code",
      "source": [
        "v1 = np.array([0,3])\n",
        "v2 = np.array([3,3])\n",
        "\n",
        "print(v1.T.dot(v2))"
      ],
      "metadata": {
        "colab": {
          "base_uri": "https://localhost:8080/"
        },
        "id": "HoYojE6w58gm",
        "outputId": "17d5bb02-a5f2-41a1-eeb9-1c9e74531bd1"
      },
      "execution_count": 24,
      "outputs": [
        {
          "output_type": "stream",
          "name": "stdout",
          "text": [
            "9\n"
          ]
        }
      ]
    },
    {
      "cell_type": "code",
      "source": [
        "norm_v1 = np.linalg.norm(v1)\n",
        "norm_v2 = np.linalg.norm(v2)\n",
        "\n",
        "print(norm_v1 * norm_v2 * np.cos(np.deg2rad(45)))"
      ],
      "metadata": {
        "colab": {
          "base_uri": "https://localhost:8080/"
        },
        "id": "_FRhu1kQ6b_g",
        "outputId": "5e2d1622-c80a-4c41-e956-787104458bde"
      },
      "execution_count": 25,
      "outputs": [
        {
          "output_type": "stream",
          "name": "stdout",
          "text": [
            "9.0\n"
          ]
        }
      ]
    },
    {
      "cell_type": "code",
      "source": [],
      "metadata": {
        "id": "iBYlvBww7Ju5"
      },
      "execution_count": null,
      "outputs": []
    }
  ]
}